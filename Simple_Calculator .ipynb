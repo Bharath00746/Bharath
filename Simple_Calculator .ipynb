{
 "cells": [
  {
   "cell_type": "code",
   "execution_count": 1,
   "id": "96beca82",
   "metadata": {},
   "outputs": [
    {
     "name": "stdout",
     "output_type": "stream",
     "text": [
      "Select Operation:\n",
      "1.Addition\n",
      "2.Subtraction\n",
      "3.Multiplication\n",
      "4.Division\n",
      "Enter choice(1-4):2\n",
      "Enter First Number:5\n",
      "Enter Second Number:5\n",
      "Result 0.0\n"
     ]
    }
   ],
   "source": [
    "def addition(a,b):\n",
    "    return a+b\n",
    "def subtraction(a,b):\n",
    "    return a-b\n",
    "def multiplication(a,b):\n",
    "    return a*b\n",
    "def division(a,b):\n",
    "    if b!=0:\n",
    "        return a/b\n",
    "    else:\n",
    "        return \"Cannot divide by zero\"\n",
    "    \n",
    "def main(Number1,Number2):\n",
    "    print(\"Select Operation:\")\n",
    "    print(\"1.Addition\")\n",
    "    print(\"2.Subtraction\")\n",
    "    print(\"3.Multiplication\")\n",
    "    print(\"4.Division\")\n",
    "    \n",
    "    choice=input(\"Enter choice(1-4):\")\n",
    "    \n",
    "    Number1=float(input(\"Enter First Number:\"))\n",
    "    Number2=float(input(\"Enter Second Number:\"))\n",
    "    \n",
    "    if choice=='1':\n",
    "        result=addition(Number1,Number2)\n",
    "        print(\"Result\",result)\n",
    "    elif choice=='2':\n",
    "        result=subtraction(Number1,Number2)\n",
    "        print(\"Result\",result)\n",
    "    elif choice=='3':\n",
    "        result=multiplication(Number1,Number2)\n",
    "        print(\"Result\",result)\n",
    "    elif choice=='4':\n",
    "        reult=division(Number1,Number2)\n",
    "        print(\"Result\",\"result\")\n",
    "    else:\n",
    "        print(\"Invalid Input\")\n",
    "\n",
    "main(\"Number1\",\"Number2\")\n",
    "    \n",
    "\n",
    "    \n"
   ]
  },
  {
   "cell_type": "code",
   "execution_count": null,
   "id": "3b829b34",
   "metadata": {},
   "outputs": [],
   "source": []
  }
 ],
 "metadata": {
  "kernelspec": {
   "display_name": "Python 3 (ipykernel)",
   "language": "python",
   "name": "python3"
  },
  "language_info": {
   "codemirror_mode": {
    "name": "ipython",
    "version": 3
   },
   "file_extension": ".py",
   "mimetype": "text/x-python",
   "name": "python",
   "nbconvert_exporter": "python",
   "pygments_lexer": "ipython3",
   "version": "3.10.9"
  }
 },
 "nbformat": 4,
 "nbformat_minor": 5
}
